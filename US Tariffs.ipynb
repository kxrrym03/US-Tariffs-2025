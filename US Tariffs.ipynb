{
 "cells": [
  {
   "cell_type": "code",
   "execution_count": 7,
   "id": "c96147f0-89cb-41ac-ab3e-314bbbaa027a",
   "metadata": {},
   "outputs": [
    {
     "data": {
      "text/html": [
       "<div>\n",
       "<style scoped>\n",
       "    .dataframe tbody tr th:only-of-type {\n",
       "        vertical-align: middle;\n",
       "    }\n",
       "\n",
       "    .dataframe tbody tr th {\n",
       "        vertical-align: top;\n",
       "    }\n",
       "\n",
       "    .dataframe thead th {\n",
       "        text-align: right;\n",
       "    }\n",
       "</style>\n",
       "<table border=\"1\" class=\"dataframe\">\n",
       "  <thead>\n",
       "    <tr style=\"text-align: right;\">\n",
       "      <th></th>\n",
       "      <th>Country</th>\n",
       "      <th>US 2024 Deficit</th>\n",
       "      <th>US 2024 Exports</th>\n",
       "      <th>US 2024 Imports (Customs Basis)</th>\n",
       "      <th>Trump Tariffs Alleged</th>\n",
       "      <th>Trump Response</th>\n",
       "      <th>Population</th>\n",
       "    </tr>\n",
       "  </thead>\n",
       "  <tbody>\n",
       "    <tr>\n",
       "      <th>0</th>\n",
       "      <td>Afghanistan</td>\n",
       "      <td>-11.1</td>\n",
       "      <td>11.4</td>\n",
       "      <td>22.6</td>\n",
       "      <td>49%</td>\n",
       "      <td>25%</td>\n",
       "      <td>41454761.0</td>\n",
       "    </tr>\n",
       "    <tr>\n",
       "      <th>1</th>\n",
       "      <td>Albania</td>\n",
       "      <td>13.4</td>\n",
       "      <td>141.7</td>\n",
       "      <td>128.3</td>\n",
       "      <td>10%</td>\n",
       "      <td>10%</td>\n",
       "      <td>2745972.0</td>\n",
       "    </tr>\n",
       "    <tr>\n",
       "      <th>2</th>\n",
       "      <td>Algeria</td>\n",
       "      <td>-1,447.10</td>\n",
       "      <td>1,014.50</td>\n",
       "      <td>2,461.60</td>\n",
       "      <td>59%</td>\n",
       "      <td>29%</td>\n",
       "      <td>46164219.0</td>\n",
       "    </tr>\n",
       "    <tr>\n",
       "      <th>3</th>\n",
       "      <td>Andorra</td>\n",
       "      <td>1.5</td>\n",
       "      <td>4.9</td>\n",
       "      <td>3.4</td>\n",
       "      <td>10%</td>\n",
       "      <td>10%</td>\n",
       "      <td>80856.0</td>\n",
       "    </tr>\n",
       "    <tr>\n",
       "      <th>4</th>\n",
       "      <td>Angola</td>\n",
       "      <td>-1,186.90</td>\n",
       "      <td>682.4</td>\n",
       "      <td>1,869.20</td>\n",
       "      <td>63%</td>\n",
       "      <td>32%</td>\n",
       "      <td>36749906.0</td>\n",
       "    </tr>\n",
       "  </tbody>\n",
       "</table>\n",
       "</div>"
      ],
      "text/plain": [
       "       Country US 2024 Deficit US 2024 Exports  \\\n",
       "0  Afghanistan           -11.1            11.4   \n",
       "1      Albania            13.4           141.7   \n",
       "2      Algeria       -1,447.10        1,014.50   \n",
       "3      Andorra             1.5             4.9   \n",
       "4       Angola       -1,186.90           682.4   \n",
       "\n",
       "  US 2024 Imports (Customs Basis) Trump Tariffs Alleged Trump Response  \\\n",
       "0                            22.6                   49%            25%   \n",
       "1                           128.3                   10%            10%   \n",
       "2                        2,461.60                   59%            29%   \n",
       "3                             3.4                   10%            10%   \n",
       "4                        1,869.20                   63%            32%   \n",
       "\n",
       "   Population  \n",
       "0  41454761.0  \n",
       "1   2745972.0  \n",
       "2  46164219.0  \n",
       "3     80856.0  \n",
       "4  36749906.0  "
      ]
     },
     "execution_count": 7,
     "metadata": {},
     "output_type": "execute_result"
    }
   ],
   "source": [
    "import pandas as pd\n",
    "df = pd.read_csv(r'C:\\Users\\Kerry\\Tariff Calculations plus Population.csv', sep=';')\n",
    "df.head()"
   ]
  },
  {
   "cell_type": "code",
   "execution_count": 8,
   "id": "e5588725-055d-4276-a77b-9a6d7bd0a799",
   "metadata": {},
   "outputs": [
    {
     "data": {
      "text/plain": [
       "Country                             0\n",
       "US 2024 Deficit                     0\n",
       "US 2024 Exports                     0\n",
       "US 2024 Imports (Customs Basis)     0\n",
       "Trump Tariffs Alleged               0\n",
       "Trump Response                      0\n",
       "Population                         32\n",
       "dtype: int64"
      ]
     },
     "execution_count": 8,
     "metadata": {},
     "output_type": "execute_result"
    }
   ],
   "source": [
    "df.isnull().sum()"
   ]
  },
  {
   "cell_type": "code",
   "execution_count": 9,
   "id": "9876ca3a-7c34-4541-abb0-ff1916c31cdf",
   "metadata": {},
   "outputs": [],
   "source": [
    "df = df.dropna(subset=['Population'])"
   ]
  },
  {
   "cell_type": "code",
   "execution_count": 10,
   "id": "975e5b99-51da-4745-86bf-edc476baa41d",
   "metadata": {},
   "outputs": [
    {
     "data": {
      "text/plain": [
       "0"
      ]
     },
     "execution_count": 10,
     "metadata": {},
     "output_type": "execute_result"
    }
   ],
   "source": [
    "df.duplicated().sum()"
   ]
  },
  {
   "cell_type": "code",
   "execution_count": 11,
   "id": "9b98703e-5a5e-4b43-83a9-67961578ac77",
   "metadata": {},
   "outputs": [
    {
     "data": {
      "text/plain": [
       "Index(['Country', 'US 2024 Deficit', 'US 2024 Exports',\n",
       "       'US 2024 Imports (Customs Basis)', 'Trump Tariffs Alleged',\n",
       "       'Trump Response', 'Population'],\n",
       "      dtype='object')"
      ]
     },
     "execution_count": 11,
     "metadata": {},
     "output_type": "execute_result"
    }
   ],
   "source": [
    "df.columns"
   ]
  },
  {
   "cell_type": "code",
   "execution_count": 12,
   "id": "59747603-e49c-4948-b6e6-da47d6ed8e7f",
   "metadata": {},
   "outputs": [
    {
     "data": {
      "text/html": [
       "<div>\n",
       "<style scoped>\n",
       "    .dataframe tbody tr th:only-of-type {\n",
       "        vertical-align: middle;\n",
       "    }\n",
       "\n",
       "    .dataframe tbody tr th {\n",
       "        vertical-align: top;\n",
       "    }\n",
       "\n",
       "    .dataframe thead th {\n",
       "        text-align: right;\n",
       "    }\n",
       "</style>\n",
       "<table border=\"1\" class=\"dataframe\">\n",
       "  <thead>\n",
       "    <tr style=\"text-align: right;\">\n",
       "      <th></th>\n",
       "      <th>Population</th>\n",
       "    </tr>\n",
       "  </thead>\n",
       "  <tbody>\n",
       "    <tr>\n",
       "      <th>count</th>\n",
       "      <td>1.720000e+02</td>\n",
       "    </tr>\n",
       "    <tr>\n",
       "      <th>mean</th>\n",
       "      <td>4.286567e+07</td>\n",
       "    </tr>\n",
       "    <tr>\n",
       "      <th>std</th>\n",
       "      <td>1.602899e+08</td>\n",
       "    </tr>\n",
       "    <tr>\n",
       "      <th>min</th>\n",
       "      <td>9.816000e+03</td>\n",
       "    </tr>\n",
       "    <tr>\n",
       "      <th>25%</th>\n",
       "      <td>8.149932e+05</td>\n",
       "    </tr>\n",
       "    <tr>\n",
       "      <th>50%</th>\n",
       "      <td>6.833880e+06</td>\n",
       "    </tr>\n",
       "    <tr>\n",
       "      <th>75%</th>\n",
       "      <td>2.831881e+07</td>\n",
       "    </tr>\n",
       "    <tr>\n",
       "      <th>max</th>\n",
       "      <td>1.438070e+09</td>\n",
       "    </tr>\n",
       "  </tbody>\n",
       "</table>\n",
       "</div>"
      ],
      "text/plain": [
       "         Population\n",
       "count  1.720000e+02\n",
       "mean   4.286567e+07\n",
       "std    1.602899e+08\n",
       "min    9.816000e+03\n",
       "25%    8.149932e+05\n",
       "50%    6.833880e+06\n",
       "75%    2.831881e+07\n",
       "max    1.438070e+09"
      ]
     },
     "execution_count": 12,
     "metadata": {},
     "output_type": "execute_result"
    }
   ],
   "source": [
    "df.describe()"
   ]
  },
  {
   "cell_type": "code",
   "execution_count": 13,
   "id": "344ec30f-2964-465a-88b9-cda56ef424b4",
   "metadata": {},
   "outputs": [],
   "source": [
    "cols_to_convert = ['US 2024 Deficit', 'US 2024 Exports', 'US 2024 Imports (Customs Basis)']\n",
    "\n",
    "for col in cols_to_convert:\n",
    "    df[col] = df[col].replace(',', '', regex=True)  \n",
    "    df[col] = pd.to_numeric(df[col], errors='coerce')  \n"
   ]
  },
  {
   "cell_type": "code",
   "execution_count": 14,
   "id": "23549619-1c33-4f4b-b55f-b8d524e6fd83",
   "metadata": {},
   "outputs": [
    {
     "data": {
      "text/html": [
       "<div>\n",
       "<style scoped>\n",
       "    .dataframe tbody tr th:only-of-type {\n",
       "        vertical-align: middle;\n",
       "    }\n",
       "\n",
       "    .dataframe tbody tr th {\n",
       "        vertical-align: top;\n",
       "    }\n",
       "\n",
       "    .dataframe thead th {\n",
       "        text-align: right;\n",
       "    }\n",
       "</style>\n",
       "<table border=\"1\" class=\"dataframe\">\n",
       "  <thead>\n",
       "    <tr style=\"text-align: right;\">\n",
       "      <th></th>\n",
       "      <th>US 2024 Deficit</th>\n",
       "      <th>US 2024 Exports</th>\n",
       "      <th>US 2024 Imports (Customs Basis)</th>\n",
       "      <th>Population</th>\n",
       "    </tr>\n",
       "  </thead>\n",
       "  <tbody>\n",
       "    <tr>\n",
       "      <th>count</th>\n",
       "      <td>172.000000</td>\n",
       "      <td>172.000000</td>\n",
       "      <td>172.000000</td>\n",
       "      <td>1.720000e+02</td>\n",
       "    </tr>\n",
       "    <tr>\n",
       "      <th>mean</th>\n",
       "      <td>-6172.715116</td>\n",
       "      <td>11372.547674</td>\n",
       "      <td>17548.502907</td>\n",
       "      <td>4.286567e+07</td>\n",
       "    </tr>\n",
       "    <tr>\n",
       "      <th>std</th>\n",
       "      <td>34055.410554</td>\n",
       "      <td>48081.681606</td>\n",
       "      <td>76638.207319</td>\n",
       "      <td>1.602899e+08</td>\n",
       "    </tr>\n",
       "    <tr>\n",
       "      <th>min</th>\n",
       "      <td>-295401.600000</td>\n",
       "      <td>0.900000</td>\n",
       "      <td>0.100000</td>\n",
       "      <td>9.816000e+03</td>\n",
       "    </tr>\n",
       "    <tr>\n",
       "      <th>25%</th>\n",
       "      <td>-190.975000</td>\n",
       "      <td>66.900000</td>\n",
       "      <td>22.600000</td>\n",
       "      <td>8.149932e+05</td>\n",
       "    </tr>\n",
       "    <tr>\n",
       "      <th>50%</th>\n",
       "      <td>28.550000</td>\n",
       "      <td>359.550000</td>\n",
       "      <td>216.550000</td>\n",
       "      <td>6.833880e+06</td>\n",
       "    </tr>\n",
       "    <tr>\n",
       "      <th>75%</th>\n",
       "      <td>346.200000</td>\n",
       "      <td>2940.025000</td>\n",
       "      <td>3093.175000</td>\n",
       "      <td>2.831881e+07</td>\n",
       "    </tr>\n",
       "    <tr>\n",
       "      <th>max</th>\n",
       "      <td>21913.500000</td>\n",
       "      <td>370189.200000</td>\n",
       "      <td>605760.400000</td>\n",
       "      <td>1.438070e+09</td>\n",
       "    </tr>\n",
       "  </tbody>\n",
       "</table>\n",
       "</div>"
      ],
      "text/plain": [
       "       US 2024 Deficit  US 2024 Exports  US 2024 Imports (Customs Basis)  \\\n",
       "count       172.000000       172.000000                       172.000000   \n",
       "mean      -6172.715116     11372.547674                     17548.502907   \n",
       "std       34055.410554     48081.681606                     76638.207319   \n",
       "min     -295401.600000         0.900000                         0.100000   \n",
       "25%        -190.975000        66.900000                        22.600000   \n",
       "50%          28.550000       359.550000                       216.550000   \n",
       "75%         346.200000      2940.025000                      3093.175000   \n",
       "max       21913.500000    370189.200000                    605760.400000   \n",
       "\n",
       "         Population  \n",
       "count  1.720000e+02  \n",
       "mean   4.286567e+07  \n",
       "std    1.602899e+08  \n",
       "min    9.816000e+03  \n",
       "25%    8.149932e+05  \n",
       "50%    6.833880e+06  \n",
       "75%    2.831881e+07  \n",
       "max    1.438070e+09  "
      ]
     },
     "execution_count": 14,
     "metadata": {},
     "output_type": "execute_result"
    }
   ],
   "source": [
    "df.describe()\n"
   ]
  },
  {
   "cell_type": "markdown",
   "id": "216a8fa8-3174-4830-ab7a-f866a2d87fc7",
   "metadata": {},
   "source": [
    "### Data Visualizations "
   ]
  },
  {
   "cell_type": "code",
   "execution_count": 15,
   "id": "3cf05655-e0c7-4ce2-b9f8-b5d9b2c94c8e",
   "metadata": {},
   "outputs": [],
   "source": [
    "import matplotlib.pyplot as plt\n",
    "import seaborn as sns\n",
    "sns.set(style=\"whitegrid\")"
   ]
  },
  {
   "cell_type": "code",
   "execution_count": 16,
   "id": "b041d0c3-5df5-4aa8-9942-fa835c812638",
   "metadata": {},
   "outputs": [
    {
     "data": {
      "image/png": "[encoded data removed]",
      "text/plain": [
       "<Figure size 1000x600 with 1 Axes>"
      ]
     },
     "metadata": {},
     "output_type": "display_data"
    }
   ],
   "source": [
    "plt.figure(figsize=(10, 6))\n",
    "sns.histplot(df['Population'], bins=30, kde=True)\n",
    "plt.title('Distribution of Population')\n",
    "plt.xlabel('Population')\n",
    "plt.ylabel('Frequency')\n",
    "plt.show()"
   ]
  },
  {
   "cell_type": "code",
   "execution_count": null,
   "id": "3b1b9f49-dd01-4684-b7c6-c30bd76593ef",
   "metadata": {},
   "outputs": [],
   "source": []
  }
 ],
 "metadata": {
  "kernelspec": {
   "display_name": "Python 3 (ipykernel)",
   "language": "python",
   "name": "python3"
  },
  "language_info": {
   "codemirror_mode": {
    "name": "ipython",
    "version": 3
   },
   "file_extension": ".py",
   "mimetype": "text/x-python",
   "name": "python",
   "nbconvert_exporter": "python",
   "pygments_lexer": "ipython3",
   "version": "3.12.7"
  }
 },
 "nbformat": 4,
 "nbformat_minor": 5
}
